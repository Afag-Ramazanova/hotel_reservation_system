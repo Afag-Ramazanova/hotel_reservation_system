{
 "cells": [
  {
   "cell_type": "code",
   "execution_count": 8,
   "metadata": {},
   "outputs": [],
   "source": [
    "import pandas as pd\n",
    "import re\n",
    "import os\n",
    "import random"
   ]
  },
  {
   "cell_type": "code",
   "execution_count": 47,
   "metadata": {},
   "outputs": [],
   "source": [
    "class HotelReservation:\n",
    "    def __init__(self):\n",
    "        self.rooms = {}\n",
    "        self.reservations = {}\n",
    "    def add_room(self, room_number, price,room_type = 'Standard', status='Vacant', amenities=False): \n",
    "        '''This method represents a hotel room and\n",
    "        contains information such as the room number, \n",
    "        type, and availability status.'''\n",
    "        info = {\n",
    "            \"room_number\": room_number, \n",
    "            \"room_type\": room_type, \n",
    "            \"price\": price,\n",
    "            \"status\": status, \n",
    "            \"amenities\": amenities\n",
    "        }\n",
    "        self.rooms[room_number] = info\n",
    "        print(self.rooms)\n",
    "    def remove_room(self, room_number):\n",
    "        '''This method used for removing room from the list'''\n",
    "        del self.rooms[room_number]\n",
    "    def available_rooms(self):\n",
    "        available = []\n",
    "        for room_number, room_info in self.rooms.items():\n",
    "            if room_info['status'] == 'Vacant':\n",
    "                available.append(room_number)\n",
    "        return available\n",
    "        \n",
    "    def booking(self, guest_name, check_in_date, check_out_date, room_type, amenities ):\n",
    "        '''This represents a booking made by a guest. \n",
    "        It contains information such as the guest name, check-in and check-out dates, and the room booked etc.'''\n",
    "        available_rooms_info = self.available_rooms()\n",
    "        print()\n",
    "        if len(available_rooms_info) == 0:\n",
    "            print(\"Sorry, no available rooms.\")\n",
    "        else:\n",
    "            for room_number in available_rooms_info:\n",
    "                if self.rooms[room_number]['room_type'] == room_type:\n",
    "                    print(self.rooms[room_number])\n",
    "                    print(f\"Room Number: {room_number} you can choose\")\n",
    "                else:\n",
    "                    pass\n",
    "        vacant_room = input('input vacant room number: ')\n",
    "        self.rooms[vacant_room]['room_type'] == room_type\n",
    "        self.rooms[vacant_room]['status'] = 'Reserved'\n",
    "        reservation_id = vacant_room + '_' + str(random.randint(1, 100000)) #generates random id\n",
    "        reservation_id = reservation_id.zfill(11)\n",
    "        reservation_info = {\n",
    "        'guest_name': guest_name,\n",
    "        'check_in_date': check_in_date,\n",
    "        'check_out_date': check_out_date,\n",
    "        'room_number': vacant_room,\n",
    "        'room_type': room_type,\n",
    "        'amenities': amenities}\n",
    "        self.reservations[reservation_id] = reservation_info\n",
    "        print('Reservation created successfully')\n",
    "    def generate_confirmation(self, reservation_id):\n",
    "        reservation_info = self.reservations[reservation_id]\n",
    "\n",
    "        print(\"------Booking Confirmation-------\")\n",
    "        print(f\"Reservation ID: {reservation_id}\")\n",
    "        print(f\"Guest name: {reservation_info['guest_name']}\")\n",
    "        print(f\"Check-in date: {reservation_info['check_in_date']}\")\n",
    "        print(f\"Check-out date: {reservation_info['check_out_date']}\")\n",
    "        print(f\"Room number: {reservation_info['room_number']}\")\n",
    "        print(f\"Room type: {reservation_info['room_type']}\")\n",
    "        print(f\"Amenities: {reservation_info['amenities']}\")\n",
    "        print()\n",
    "    def check_in(self, reservation_id):\n",
    "        if reservation_id not in (i for i in self.reservations):\n",
    "            print('Invalid Reservation ID')\n",
    "        else:\n",
    "            room_number = self.reservations[reservation_id]['room_number']\n",
    "            if self.rooms[room_number]['status'] != 'Reserved':\n",
    "                print(\"Room is not reserved.\")\n",
    "            self.rooms[self.reservations[reservation_id]['room_number']]['status'] = 'Occupied'\n",
    "            print(\"Guest checked in successfully.\")\n",
    "            return self.rooms\n",
    "            \n",
    "    \n",
    "    def generate_invoice(self, reservation_id):\n",
    "        reservation_info = self.reservations[reservation_id]\n",
    "        room_number = reservation_info['room_number']\n",
    "        room_info = self.rooms[room_number]\n",
    "        price_of_amenities = {'Wifi': 5, 'Breakfast': 15, 'Minibar': 30, 'Playstation': 10, 'Netflix': 7, 'TV': 12}\n",
    "        \n",
    "        total_amount = room_info['price']\n",
    "        for i in reservation_info['amenities'].split():\n",
    "            i = i.replace(\",\", \"\")\n",
    "            if i in price_of_amenities.keys():\n",
    "                total_amount += price_of_amenities[i]\n",
    "                print(f'Price of {i} is {price_of_amenities[i]} $')\n",
    "                print(f'{total_amount}$')\n",
    "            else:\n",
    "                total_amount\n",
    "        print(\"Invoice:\")\n",
    "        print(f\"Reservation ID: {reservation_id}\")\n",
    "        print(f\"Room number: {room_number}\")\n",
    "        print(f\"Room type: {room_info['room_type']}\")\n",
    "        print(f\"Amenities: {room_info['amenities']}\")\n",
    "        print(f\"TOTAL AMOUNT: {total_amount}$\")\n",
    "    def check_out(self, reservation_id): \n",
    "        if reservation_id not in (i for i in self.reservations):\n",
    "            print('Invalid Reservation ID')\n",
    "        else:\n",
    "            room_number = self.reservations[reservation_id]['room_number']\n",
    "            if self.rooms[room_number]['status'] != 'Occupied':\n",
    "                print(\"Room is not occupied.\")\n",
    "            self.rooms[self.reservations[reservation_id]['room_number']]['status'] = 'Vacant'\n",
    "            self.generate_invoice(reservation_id)\n",
    "            print(\"Guest checked out successfully.\")\n",
    "            print(\"HAVE A GOOD DAY\")\n",
    "  \n",
    "            return self.rooms\n",
    "            "
   ]
  },
  {
   "cell_type": "code",
   "execution_count": 48,
   "metadata": {
    "scrolled": true
   },
   "outputs": [
    {
     "name": "stdout",
     "output_type": "stream",
     "text": [
      "{'1234': {'room_number': '1234', 'room_type': 'Standard', 'price': 150, 'status': 'Vacant', 'amenities': False}}\n",
      "{'1234': {'room_number': '1234', 'room_type': 'Standard', 'price': 150, 'status': 'Vacant', 'amenities': False}, '1235': {'room_number': '1235', 'room_type': 'Standard', 'price': 150, 'status': 'Reserved', 'amenities': False}}\n",
      "{'1234': {'room_number': '1234', 'room_type': 'Standard', 'price': 150, 'status': 'Vacant', 'amenities': False}, '1235': {'room_number': '1235', 'room_type': 'Standard', 'price': 150, 'status': 'Reserved', 'amenities': False}, '1245': {'room_number': '1245', 'room_type': 'Standard', 'price': 150, 'status': 'Vacant', 'amenities': False}}\n",
      "{'1234': {'room_number': '1234', 'room_type': 'Standard', 'price': 150, 'status': 'Vacant', 'amenities': False}, '1235': {'room_number': '1235', 'room_type': 'Standard', 'price': 150, 'status': 'Reserved', 'amenities': False}, '1245': {'room_number': '1245', 'room_type': 'Standard', 'price': 150, 'status': 'Vacant', 'amenities': False}, '2222': {'room_number': '2222', 'room_type': 'VIP', 'price': 300, 'status': 'Vacant', 'amenities': False}}\n",
      "{'1234': {'room_number': '1234', 'room_type': 'Standard', 'price': 150, 'status': 'Vacant', 'amenities': False}, '1235': {'room_number': '1235', 'room_type': 'Standard', 'price': 150, 'status': 'Reserved', 'amenities': False}, '1245': {'room_number': '1245', 'room_type': 'Standard', 'price': 150, 'status': 'Vacant', 'amenities': False}, '2222': {'room_number': '2222', 'room_type': 'VIP', 'price': 300, 'status': 'Vacant', 'amenities': False}, '1256': {'room_number': '1256', 'room_type': 'Deluxe', 'price': 190, 'status': 'Vacant', 'amenities': 'TV, Wifi, Minibar'}}\n",
      "{'1234': {'room_number': '1234', 'room_type': 'Standard', 'price': 150, 'status': 'Vacant', 'amenities': False}, '1235': {'room_number': '1235', 'room_type': 'Standard', 'price': 150, 'status': 'Reserved', 'amenities': False}, '1245': {'room_number': '1245', 'room_type': 'Standard', 'price': 150, 'status': 'Vacant', 'amenities': False}, '2222': {'room_number': '2222', 'room_type': 'VIP', 'price': 300, 'status': 'Vacant', 'amenities': False}, '1256': {'room_number': '1256', 'room_type': 'Deluxe', 'price': 190, 'status': 'Vacant', 'amenities': 'TV, Wifi, Minibar'}}\n"
     ]
    }
   ],
   "source": [
    "a = HotelReservation()\n",
    "a.add_room(\"1234\", 150)\n",
    "a.add_room(\"1235\", 150, status = 'Reserved')\n",
    "a.add_room(\"1245\", 150)\n",
    "a.add_room (\"2222\",  300 ,'VIP')\n",
    "a.add_room (\"1256\", 190, 'Deluxe', amenities = \"TV, Wifi, Minibar\" )\n",
    "print(a.rooms)"
   ]
  },
  {
   "cell_type": "code",
   "execution_count": 49,
   "metadata": {
    "scrolled": false
   },
   "outputs": [
    {
     "name": "stdout",
     "output_type": "stream",
     "text": [
      "\n",
      "{'room_number': '1256', 'room_type': 'Deluxe', 'price': 190, 'status': 'Vacant', 'amenities': 'TV, Wifi, Minibar'}\n",
      "Room Number: 1256 you can choose\n",
      "input vacant room number: 1256\n",
      "Reservation created successfully\n",
      "{'01256_27472': {'guest_name': 'Afaq Ramazanova', 'check_in_date': '2023-06-18', 'check_out_date': '2023-06-22', 'room_number': '1256', 'room_type': 'Deluxe', 'amenities': 'TV, Wifi, Minibar'}}\n"
     ]
    }
   ],
   "source": [
    "a.booking(\"Afaq Ramazanova\", \"2023-06-18\", \"2023-06-22\", \"Deluxe\", \"TV, Wifi, Minibar\")\n",
    "print(a.reservations) #used for creating a reservation, it shows the available room for your listed needs"
   ]
  },
  {
   "cell_type": "code",
   "execution_count": 50,
   "metadata": {
    "scrolled": true
   },
   "outputs": [
    {
     "name": "stdout",
     "output_type": "stream",
     "text": [
      "Guest checked in successfully.\n"
     ]
    }
   ],
   "source": [
    "for i in a.reservations:\n",
    "    a.check_in(i)"
   ]
  },
  {
   "cell_type": "code",
   "execution_count": 51,
   "metadata": {},
   "outputs": [
    {
     "name": "stdout",
     "output_type": "stream",
     "text": [
      "Price of TV is 12 $\n",
      "202$\n",
      "Price of Wifi is 5 $\n",
      "207$\n",
      "Price of Minibar is 30 $\n",
      "237$\n",
      "Invoice:\n",
      "Reservation ID: 01256_27472\n",
      "Room number: 1256\n",
      "Room type: Deluxe\n",
      "Amenities: TV, Wifi, Minibar\n",
      "TOTAL AMOUNT: 237$\n",
      "Guest checked out successfully.\n",
      "HAVE A GOOD DAY\n"
     ]
    }
   ],
   "source": [
    "for i in a.reservations:\n",
    "    a.check_out(i)"
   ]
  },
  {
   "cell_type": "code",
   "execution_count": 52,
   "metadata": {},
   "outputs": [
    {
     "name": "stdout",
     "output_type": "stream",
     "text": [
      "Price of TV is 12 $\n",
      "202$\n",
      "Price of Wifi is 5 $\n",
      "207$\n",
      "Price of Minibar is 30 $\n",
      "237$\n",
      "Invoice:\n",
      "Reservation ID: 01256_27472\n",
      "Room number: 1256\n",
      "Room type: Deluxe\n",
      "Amenities: TV, Wifi, Minibar\n",
      "TOTAL AMOUNT: 237$\n"
     ]
    }
   ],
   "source": [
    "for i in a.reservations:\n",
    "    a.generate_invoice(i)\n",
    "    "
   ]
  },
  {
   "cell_type": "code",
   "execution_count": null,
   "metadata": {},
   "outputs": [],
   "source": []
  }
 ],
 "metadata": {
  "kernelspec": {
   "display_name": "Python 3",
   "language": "python",
   "name": "python3"
  },
  "language_info": {
   "codemirror_mode": {
    "name": "ipython",
    "version": 3
   },
   "file_extension": ".py",
   "mimetype": "text/x-python",
   "name": "python",
   "nbconvert_exporter": "python",
   "pygments_lexer": "ipython3",
   "version": "3.8.5"
  }
 },
 "nbformat": 4,
 "nbformat_minor": 4
}
